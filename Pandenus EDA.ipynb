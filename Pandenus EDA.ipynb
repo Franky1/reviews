{
 "cells": [
  {
   "cell_type": "markdown",
   "id": "51c9ea73",
   "metadata": {
    "toc": true
   },
   "source": [
    "<h1>Table of Contents<span class=\"tocSkip\"></span></h1>\n",
    "<div class=\"toc\"><ul class=\"toc-item\"></ul></div>"
   ]
  },
  {
   "cell_type": "code",
   "execution_count": 18,
   "id": "c4c61b05",
   "metadata": {},
   "outputs": [],
   "source": [
    "import pandas as pd\n",
    "import matplotlib.pyplot as plt\n",
    "import seaborn as sns\n",
    "import nltk\n",
    "import warnings\n",
    "import dateparser"
   ]
  },
  {
   "cell_type": "code",
   "execution_count": 19,
   "id": "c7a5ae94",
   "metadata": {},
   "outputs": [],
   "source": [
    "%matplotlib inline"
   ]
  },
  {
   "cell_type": "code",
   "execution_count": 20,
   "id": "243469e5",
   "metadata": {},
   "outputs": [],
   "source": [
    "warnings.filterwarnings(\"ignore\")"
   ]
  },
  {
   "cell_type": "code",
   "execution_count": 21,
   "id": "5783fae4",
   "metadata": {},
   "outputs": [],
   "source": [
    "sns.set_style('white')"
   ]
  },
  {
   "cell_type": "code",
   "execution_count": 22,
   "id": "7a274cfd",
   "metadata": {},
   "outputs": [],
   "source": [
    "column_names=[\"Data\", \"Rating\", \"Titolo\", \"Testo\"]"
   ]
  },
  {
   "cell_type": "code",
   "execution_count": 23,
   "id": "5103bcab",
   "metadata": {},
   "outputs": [],
   "source": [
    "data = pd.read_csv(\"data/pandenus_gaeaulenti_it.csv\", header=None, names=column_names, parse_dates=['Data'], date_parser=dateparser.parse)"
   ]
  },
  {
   "cell_type": "code",
   "execution_count": 24,
   "id": "da33e75f",
   "metadata": {},
   "outputs": [
    {
     "data": {
      "text/html": [
       "<div>\n",
       "<style scoped>\n",
       "    .dataframe tbody tr th:only-of-type {\n",
       "        vertical-align: middle;\n",
       "    }\n",
       "\n",
       "    .dataframe tbody tr th {\n",
       "        vertical-align: top;\n",
       "    }\n",
       "\n",
       "    .dataframe thead th {\n",
       "        text-align: right;\n",
       "    }\n",
       "</style>\n",
       "<table border=\"1\" class=\"dataframe\">\n",
       "  <thead>\n",
       "    <tr style=\"text-align: right;\">\n",
       "      <th></th>\n",
       "      <th>Data</th>\n",
       "      <th>Rating</th>\n",
       "      <th>Titolo</th>\n",
       "      <th>Testo</th>\n",
       "    </tr>\n",
       "  </thead>\n",
       "  <tbody>\n",
       "    <tr>\n",
       "      <th>0</th>\n",
       "      <td>2022-03-19</td>\n",
       "      <td>10</td>\n",
       "      <td>3 euro un cappuccino... Questi sono fuori di t...</td>\n",
       "      <td>Il titolo parla da solo. 3 euro per un cappucc...</td>\n",
       "    </tr>\n",
       "    <tr>\n",
       "      <th>1</th>\n",
       "      <td>2022-03-13</td>\n",
       "      <td>20</td>\n",
       "      <td>Bocciato</td>\n",
       "      <td>Brunch domenicale: accoglienza pessima del “di...</td>\n",
       "    </tr>\n",
       "    <tr>\n",
       "      <th>2</th>\n",
       "      <td>2022-03-05</td>\n",
       "      <td>10</td>\n",
       "      <td>Pranzo pessimo</td>\n",
       "      <td>Abbiamo letto il menu e fatto domande alla cam...</td>\n",
       "    </tr>\n",
       "    <tr>\n",
       "      <th>3</th>\n",
       "      <td>2022-02-27</td>\n",
       "      <td>10</td>\n",
       "      <td>Brunch non qualificabile</td>\n",
       "      <td>Non do una stella perché il posto tutto sommat...</td>\n",
       "    </tr>\n",
       "    <tr>\n",
       "      <th>4</th>\n",
       "      <td>2022-02-16</td>\n",
       "      <td>10</td>\n",
       "      <td>Prezzi da pazzi</td>\n",
       "      <td>Aperitivo in 3 al tavolino sul marciapiedi. Sp...</td>\n",
       "    </tr>\n",
       "  </tbody>\n",
       "</table>\n",
       "</div>"
      ],
      "text/plain": [
       "        Data  Rating                                             Titolo  \\\n",
       "0 2022-03-19      10  3 euro un cappuccino... Questi sono fuori di t...   \n",
       "1 2022-03-13      20                                           Bocciato   \n",
       "2 2022-03-05      10                                     Pranzo pessimo   \n",
       "3 2022-02-27      10                           Brunch non qualificabile   \n",
       "4 2022-02-16      10                                    Prezzi da pazzi   \n",
       "\n",
       "                                               Testo  \n",
       "0  Il titolo parla da solo. 3 euro per un cappucc...  \n",
       "1  Brunch domenicale: accoglienza pessima del “di...  \n",
       "2  Abbiamo letto il menu e fatto domande alla cam...  \n",
       "3  Non do una stella perché il posto tutto sommat...  \n",
       "4  Aperitivo in 3 al tavolino sul marciapiedi. Sp...  "
      ]
     },
     "execution_count": 24,
     "metadata": {},
     "output_type": "execute_result"
    }
   ],
   "source": [
    "data.head()"
   ]
  },
  {
   "cell_type": "code",
   "execution_count": 8,
   "id": "7eff9aaf",
   "metadata": {},
   "outputs": [
    {
     "name": "stdout",
     "output_type": "stream",
     "text": [
      "<class 'pandas.core.frame.DataFrame'>\n",
      "RangeIndex: 110 entries, 0 to 109\n",
      "Data columns (total 4 columns):\n",
      " #   Column  Non-Null Count  Dtype         \n",
      "---  ------  --------------  -----         \n",
      " 0   Data    110 non-null    datetime64[ns]\n",
      " 1   Rating  110 non-null    int64         \n",
      " 2   Titolo  110 non-null    object        \n",
      " 3   Testo   110 non-null    object        \n",
      "dtypes: datetime64[ns](1), int64(1), object(2)\n",
      "memory usage: 3.6+ KB\n"
     ]
    }
   ],
   "source": [
    "data.info()"
   ]
  },
  {
   "cell_type": "code",
   "execution_count": 9,
   "id": "9ec45d2f",
   "metadata": {},
   "outputs": [
    {
     "data": {
      "image/png": "[encoded data removed]",
      "text/plain": [
       "<Figure size 432x288 with 1 Axes>"
      ]
     },
     "metadata": {},
     "output_type": "display_data"
    }
   ],
   "source": [
    "sns.countplot(x=\"Rating\", data=data)\n",
    "plt.title(f\"Distribuzione stelle {data.Data.dt.year.min()}-{data.Data.dt.year.max()}\".upper())\n",
    "sns.despine();"
   ]
  },
  {
   "cell_type": "code",
   "execution_count": 10,
   "id": "59f0c83a",
   "metadata": {},
   "outputs": [
    {
     "name": "stdout",
     "output_type": "stream",
     "text": [
      "Mediana stelle: 20.0\n"
     ]
    }
   ],
   "source": [
    "print(f\"Mediana stelle: {data.Rating.median()}\")"
   ]
  },
  {
   "cell_type": "code",
   "execution_count": 11,
   "id": "d8cde3bc",
   "metadata": {
    "scrolled": true
   },
   "outputs": [
    {
     "data": {
      "image/png": "[encoded data removed]",
      "text/plain": [
       "<Figure size 432x288 with 1 Axes>"
      ]
     },
     "metadata": {},
     "output_type": "display_data"
    }
   ],
   "source": [
    "stars_by_year = data.groupby(by=data.Data.dt.year).median().reset_index()\n",
    "sns.barplot(x=\"Data\", y=\"Rating\", data=stars_by_year)\n",
    "plt.title(\"Median stars by year\".upper())\n",
    "sns.despine();"
   ]
  },
  {
   "cell_type": "code",
   "execution_count": 12,
   "id": "9e494cca",
   "metadata": {},
   "outputs": [
    {
     "data": {
      "text/html": [
       "<div>\n",
       "<style scoped>\n",
       "    .dataframe tbody tr th:only-of-type {\n",
       "        vertical-align: middle;\n",
       "    }\n",
       "\n",
       "    .dataframe tbody tr th {\n",
       "        vertical-align: top;\n",
       "    }\n",
       "\n",
       "    .dataframe thead th {\n",
       "        text-align: right;\n",
       "    }\n",
       "</style>\n",
       "<table border=\"1\" class=\"dataframe\">\n",
       "  <thead>\n",
       "    <tr style=\"text-align: right;\">\n",
       "      <th></th>\n",
       "      <th>Data</th>\n",
       "      <th>Rating</th>\n",
       "    </tr>\n",
       "  </thead>\n",
       "  <tbody>\n",
       "    <tr>\n",
       "      <th>0</th>\n",
       "      <td>2018</td>\n",
       "      <td>40.0</td>\n",
       "    </tr>\n",
       "    <tr>\n",
       "      <th>1</th>\n",
       "      <td>2019</td>\n",
       "      <td>20.0</td>\n",
       "    </tr>\n",
       "    <tr>\n",
       "      <th>2</th>\n",
       "      <td>2020</td>\n",
       "      <td>20.0</td>\n",
       "    </tr>\n",
       "    <tr>\n",
       "      <th>3</th>\n",
       "      <td>2021</td>\n",
       "      <td>10.0</td>\n",
       "    </tr>\n",
       "    <tr>\n",
       "      <th>4</th>\n",
       "      <td>2022</td>\n",
       "      <td>10.0</td>\n",
       "    </tr>\n",
       "  </tbody>\n",
       "</table>\n",
       "</div>"
      ],
      "text/plain": [
       "   Data  Rating\n",
       "0  2018    40.0\n",
       "1  2019    20.0\n",
       "2  2020    20.0\n",
       "3  2021    10.0\n",
       "4  2022    10.0"
      ]
     },
     "execution_count": 12,
     "metadata": {},
     "output_type": "execute_result"
    }
   ],
   "source": [
    "stars_by_year"
   ]
  },
  {
   "cell_type": "code",
   "execution_count": 13,
   "id": "27a004c5",
   "metadata": {},
   "outputs": [],
   "source": [
    "reviews_by_year = data.groupby(by=data.Data.dt.year).apply(lambda x: len(x)).reset_index()"
   ]
  },
  {
   "cell_type": "code",
   "execution_count": 14,
   "id": "ef0585c5",
   "metadata": {},
   "outputs": [
    {
     "data": {
      "text/plain": [
       "0    43\n",
       "1    40\n",
       "2    10\n",
       "3     9\n",
       "4     8\n",
       "Name: 0, dtype: int64"
      ]
     },
     "execution_count": 14,
     "metadata": {},
     "output_type": "execute_result"
    }
   ],
   "source": [
    "reviews_by_year[0]"
   ]
  },
  {
   "cell_type": "code",
   "execution_count": 15,
   "id": "a2d5792a",
   "metadata": {},
   "outputs": [
    {
     "name": "stderr",
     "output_type": "stream",
     "text": [
      "[nltk_data] Downloading package stopwords to\n",
      "[nltk_data]     /Users/bernardino/nltk_data...\n",
      "[nltk_data]   Package stopwords is already up-to-date!\n"
     ]
    }
   ],
   "source": [
    "import nltk\n",
    "nltk.download('stopwords')\n",
    "from nltk.corpus import stopwords"
   ]
  },
  {
   "cell_type": "code",
   "execution_count": 16,
   "id": "62c45350",
   "metadata": {},
   "outputs": [],
   "source": [
    "stop_words = nltk.corpus.stopwords.words(\"italian\")"
   ]
  },
  {
   "cell_type": "code",
   "execution_count": 17,
   "id": "201840d2",
   "metadata": {},
   "outputs": [],
   "source": [
    "stop_words.extend([\"locale\", \"euro\", \"tadino\", \"pandenus\", \"molto\", \"posto\", \"uno\", \"due\", \"po\", \"stato\"])"
   ]
  },
  {
   "cell_type": "code",
   "execution_count": 18,
   "id": "cd887421",
   "metadata": {},
   "outputs": [],
   "source": [
    "data.Testo = data.Testo.apply(lambda x: str.lower(x))"
   ]
  },
  {
   "cell_type": "code",
   "execution_count": 19,
   "id": "e9371265",
   "metadata": {},
   "outputs": [
    {
     "data": {
      "text/html": [
       "<div>\n",
       "<style scoped>\n",
       "    .dataframe tbody tr th:only-of-type {\n",
       "        vertical-align: middle;\n",
       "    }\n",
       "\n",
       "    .dataframe tbody tr th {\n",
       "        vertical-align: top;\n",
       "    }\n",
       "\n",
       "    .dataframe thead th {\n",
       "        text-align: right;\n",
       "    }\n",
       "</style>\n",
       "<table border=\"1\" class=\"dataframe\">\n",
       "  <thead>\n",
       "    <tr style=\"text-align: right;\">\n",
       "      <th></th>\n",
       "      <th>Data</th>\n",
       "      <th>Rating</th>\n",
       "      <th>Titolo</th>\n",
       "      <th>Testo</th>\n",
       "    </tr>\n",
       "  </thead>\n",
       "  <tbody>\n",
       "    <tr>\n",
       "      <th>0</th>\n",
       "      <td>2022-03-19</td>\n",
       "      <td>10</td>\n",
       "      <td>3 euro un cappuccino... Questi sono fuori di t...</td>\n",
       "      <td>il titolo parla da solo. 3 euro per un cappucc...</td>\n",
       "    </tr>\n",
       "    <tr>\n",
       "      <th>1</th>\n",
       "      <td>2022-03-13</td>\n",
       "      <td>20</td>\n",
       "      <td>Bocciato</td>\n",
       "      <td>brunch domenicale: accoglienza pessima del “di...</td>\n",
       "    </tr>\n",
       "    <tr>\n",
       "      <th>2</th>\n",
       "      <td>2022-03-05</td>\n",
       "      <td>10</td>\n",
       "      <td>Pranzo pessimo</td>\n",
       "      <td>abbiamo letto il menu e fatto domande alla cam...</td>\n",
       "    </tr>\n",
       "    <tr>\n",
       "      <th>3</th>\n",
       "      <td>2022-02-27</td>\n",
       "      <td>10</td>\n",
       "      <td>Brunch non qualificabile</td>\n",
       "      <td>non do una stella perché il posto tutto sommat...</td>\n",
       "    </tr>\n",
       "    <tr>\n",
       "      <th>4</th>\n",
       "      <td>2022-02-16</td>\n",
       "      <td>10</td>\n",
       "      <td>Prezzi da pazzi</td>\n",
       "      <td>aperitivo in 3 al tavolino sul marciapiedi. sp...</td>\n",
       "    </tr>\n",
       "  </tbody>\n",
       "</table>\n",
       "</div>"
      ],
      "text/plain": [
       "        Data  Rating                                             Titolo  \\\n",
       "0 2022-03-19      10  3 euro un cappuccino... Questi sono fuori di t...   \n",
       "1 2022-03-13      20                                           Bocciato   \n",
       "2 2022-03-05      10                                     Pranzo pessimo   \n",
       "3 2022-02-27      10                           Brunch non qualificabile   \n",
       "4 2022-02-16      10                                    Prezzi da pazzi   \n",
       "\n",
       "                                               Testo  \n",
       "0  il titolo parla da solo. 3 euro per un cappucc...  \n",
       "1  brunch domenicale: accoglienza pessima del “di...  \n",
       "2  abbiamo letto il menu e fatto domande alla cam...  \n",
       "3  non do una stella perché il posto tutto sommat...  \n",
       "4  aperitivo in 3 al tavolino sul marciapiedi. sp...  "
      ]
     },
     "execution_count": 19,
     "metadata": {},
     "output_type": "execute_result"
    }
   ],
   "source": [
    "data.head()"
   ]
  },
  {
   "cell_type": "code",
   "execution_count": 20,
   "id": "68645b13",
   "metadata": {},
   "outputs": [
    {
     "data": {
      "text/plain": [
       "'il titolo '"
      ]
     },
     "execution_count": 20,
     "metadata": {},
     "output_type": "execute_result"
    }
   ],
   "source": [
    "all_reviews = (\" \").join(data.Testo)\n",
    "all_reviews[:10]"
   ]
  },
  {
   "cell_type": "code",
   "execution_count": 21,
   "id": "36a2a5ff",
   "metadata": {},
   "outputs": [],
   "source": [
    "tokens = nltk.tokenize.word_tokenize(all_reviews, language=\"italian\")"
   ]
  },
  {
   "cell_type": "code",
   "execution_count": 22,
   "id": "19b73bfa",
   "metadata": {},
   "outputs": [],
   "source": [
    "all_reviews_no_stopword = [word for word in tokens if word not in stop_words and word.isalpha()]"
   ]
  },
  {
   "cell_type": "code",
   "execution_count": 23,
   "id": "aef19321",
   "metadata": {},
   "outputs": [
    {
     "data": {
      "text/plain": [
       "['titolo',\n",
       " 'parla',\n",
       " 'solo',\n",
       " 'cappuccino',\n",
       " 'giustificabili',\n",
       " 'alcuni',\n",
       " 'gestori',\n",
       " 'locali',\n",
       " 'perso',\n",
       " 'completamente']"
      ]
     },
     "execution_count": 23,
     "metadata": {},
     "output_type": "execute_result"
    }
   ],
   "source": [
    "all_reviews_no_stopword[:10]"
   ]
  },
  {
   "cell_type": "code",
   "execution_count": 24,
   "id": "9554d364",
   "metadata": {},
   "outputs": [],
   "source": [
    "from collections import Counter"
   ]
  },
  {
   "cell_type": "code",
   "execution_count": 25,
   "id": "8b2267d7",
   "metadata": {},
   "outputs": [],
   "source": [
    "word_count = pd.DataFrame.from_dict(data=Counter(all_reviews_no_stopword), orient='index').reset_index()\n",
    "word_count.columns=[\"word\", \"count\"]\n",
    "word_count.sort_values(by=\"count\", ascending=False, inplace=True)\n"
   ]
  },
  {
   "cell_type": "code",
   "execution_count": 26,
   "id": "7c0d76ec",
   "metadata": {},
   "outputs": [
    {
     "data": {
      "text/html": [
       "<div>\n",
       "<style scoped>\n",
       "    .dataframe tbody tr th:only-of-type {\n",
       "        vertical-align: middle;\n",
       "    }\n",
       "\n",
       "    .dataframe tbody tr th {\n",
       "        vertical-align: top;\n",
       "    }\n",
       "\n",
       "    .dataframe thead th {\n",
       "        text-align: right;\n",
       "    }\n",
       "</style>\n",
       "<table border=\"1\" class=\"dataframe\">\n",
       "  <thead>\n",
       "    <tr style=\"text-align: right;\">\n",
       "      <th></th>\n",
       "      <th>word</th>\n",
       "      <th>count</th>\n",
       "    </tr>\n",
       "  </thead>\n",
       "  <tbody>\n",
       "    <tr>\n",
       "      <th>229</th>\n",
       "      <td>servizio</td>\n",
       "      <td>45</td>\n",
       "    </tr>\n",
       "    <tr>\n",
       "      <th>181</th>\n",
       "      <td>aperitivo</td>\n",
       "      <td>35</td>\n",
       "    </tr>\n",
       "    <tr>\n",
       "      <th>101</th>\n",
       "      <td>cibo</td>\n",
       "      <td>31</td>\n",
       "    </tr>\n",
       "    <tr>\n",
       "      <th>43</th>\n",
       "      <td>tavolo</td>\n",
       "      <td>30</td>\n",
       "    </tr>\n",
       "    <tr>\n",
       "      <th>400</th>\n",
       "      <td>personale</td>\n",
       "      <td>28</td>\n",
       "    </tr>\n",
       "  </tbody>\n",
       "</table>\n",
       "</div>"
      ],
      "text/plain": [
       "          word  count\n",
       "229   servizio     45\n",
       "181  aperitivo     35\n",
       "101       cibo     31\n",
       "43      tavolo     30\n",
       "400  personale     28"
      ]
     },
     "execution_count": 26,
     "metadata": {},
     "output_type": "execute_result"
    }
   ],
   "source": [
    "word_count.head()"
   ]
  },
  {
   "cell_type": "code",
   "execution_count": 27,
   "id": "b57f03a1",
   "metadata": {},
   "outputs": [
    {
     "data": {
      "image/png": "[encoded data removed]",
      "text/plain": [
       "<Figure size 432x288 with 1 Axes>"
      ]
     },
     "metadata": {},
     "output_type": "display_data"
    }
   ],
   "source": [
    "sns.barplot(x=\"word\",y =\"count\", data=word_count[:20])\n",
    "plt.xticks(rotation=90);"
   ]
  },
  {
   "cell_type": "code",
   "execution_count": 25,
   "id": "b21636f2",
   "metadata": {},
   "outputs": [
    {
     "data": {
      "text/plain": [
       "['pandenus_melzideril_it.csv',\n",
       " 'pandenus_concordia_it.csv',\n",
       " 'pandenus_lafoppa_it.csv',\n",
       " 'pandenus_gaeaulenti_it.csv',\n",
       " 'pandenus_mercato_it.csv',\n",
       " 'pandenus_tadino_it.csv']"
      ]
     },
     "execution_count": 25,
     "metadata": {},
     "output_type": "execute_result"
    }
   ],
   "source": [
    "import os\n",
    "all_files = []\n",
    "for file in os.listdir(\"data\"):\n",
    "    if \"all\" not in file:\n",
    "        all_files.append(file)\n",
    "all_files"
   ]
  },
  {
   "cell_type": "code",
   "execution_count": 26,
   "id": "b84ade55",
   "metadata": {},
   "outputs": [],
   "source": [
    "li = []\n",
    "\n",
    "for filename in all_files:\n",
    "    df = pd.read_csv(os.path.join(\"data\", filename), index_col=None, header=None, names=column_names, parse_dates=['Data'], date_parser=dateparser.parse)\n",
    "    df[\"Locale\"] = filename.split('_')[1]\n",
    "    li.append(df)\n",
    "\n",
    "frame = pd.concat(li, axis=0, ignore_index=True)\n"
   ]
  },
  {
   "cell_type": "code",
   "execution_count": 27,
   "id": "f4314264",
   "metadata": {},
   "outputs": [
    {
     "data": {
      "text/html": [
       "<div>\n",
       "<style scoped>\n",
       "    .dataframe tbody tr th:only-of-type {\n",
       "        vertical-align: middle;\n",
       "    }\n",
       "\n",
       "    .dataframe tbody tr th {\n",
       "        vertical-align: top;\n",
       "    }\n",
       "\n",
       "    .dataframe thead th {\n",
       "        text-align: right;\n",
       "    }\n",
       "</style>\n",
       "<table border=\"1\" class=\"dataframe\">\n",
       "  <thead>\n",
       "    <tr style=\"text-align: right;\">\n",
       "      <th></th>\n",
       "      <th>Data</th>\n",
       "      <th>Rating</th>\n",
       "      <th>Titolo</th>\n",
       "      <th>Testo</th>\n",
       "      <th>Locale</th>\n",
       "    </tr>\n",
       "  </thead>\n",
       "  <tbody>\n",
       "    <tr>\n",
       "      <th>0</th>\n",
       "      <td>2022-01-31</td>\n",
       "      <td>10</td>\n",
       "      <td>Non ci siamo per niente</td>\n",
       "      <td>Sono stata con amici per un brunch e sono rima...</td>\n",
       "      <td>melzideril</td>\n",
       "    </tr>\n",
       "    <tr>\n",
       "      <th>1</th>\n",
       "      <td>2022-01-05</td>\n",
       "      <td>20</td>\n",
       "      <td>Si mangia insieme ai moscerini</td>\n",
       "      <td>Il cibo è buono ma da un po’ di tempo ci sono ...</td>\n",
       "      <td>melzideril</td>\n",
       "    </tr>\n",
       "    <tr>\n",
       "      <th>2</th>\n",
       "      <td>2021-10-12</td>\n",
       "      <td>20</td>\n",
       "      <td>Poco pulizia , e molta sgarbatezza .</td>\n",
       "      <td>Mosche sulle brioche , insetti in bagno . Poco...</td>\n",
       "      <td>melzideril</td>\n",
       "    </tr>\n",
       "    <tr>\n",
       "      <th>3</th>\n",
       "      <td>2021-09-06</td>\n",
       "      <td>20</td>\n",
       "      <td>Mai più</td>\n",
       "      <td>Il locale non sembra pulito e il dehor è propr...</td>\n",
       "      <td>melzideril</td>\n",
       "    </tr>\n",
       "    <tr>\n",
       "      <th>4</th>\n",
       "      <td>2021-08-02</td>\n",
       "      <td>10</td>\n",
       "      <td>Pandenus, che succede?</td>\n",
       "      <td>Servizio inesistente. Sono entrata, totale cli...</td>\n",
       "      <td>melzideril</td>\n",
       "    </tr>\n",
       "  </tbody>\n",
       "</table>\n",
       "</div>"
      ],
      "text/plain": [
       "        Data  Rating                                Titolo  \\\n",
       "0 2022-01-31      10               Non ci siamo per niente   \n",
       "1 2022-01-05      20        Si mangia insieme ai moscerini   \n",
       "2 2021-10-12      20  Poco pulizia , e molta sgarbatezza .   \n",
       "3 2021-09-06      20                               Mai più   \n",
       "4 2021-08-02      10                Pandenus, che succede?   \n",
       "\n",
       "                                               Testo      Locale  \n",
       "0  Sono stata con amici per un brunch e sono rima...  melzideril  \n",
       "1  Il cibo è buono ma da un po’ di tempo ci sono ...  melzideril  \n",
       "2  Mosche sulle brioche , insetti in bagno . Poco...  melzideril  \n",
       "3  Il locale non sembra pulito e il dehor è propr...  melzideril  \n",
       "4  Servizio inesistente. Sono entrata, totale cli...  melzideril  "
      ]
     },
     "execution_count": 27,
     "metadata": {},
     "output_type": "execute_result"
    }
   ],
   "source": [
    "frame.head()"
   ]
  },
  {
   "cell_type": "code",
   "execution_count": 28,
   "id": "b010027a",
   "metadata": {},
   "outputs": [
    {
     "name": "stdout",
     "output_type": "stream",
     "text": [
      "<class 'pandas.core.frame.DataFrame'>\n",
      "RangeIndex: 2224 entries, 0 to 2223\n",
      "Data columns (total 5 columns):\n",
      " #   Column  Non-Null Count  Dtype         \n",
      "---  ------  --------------  -----         \n",
      " 0   Data    2224 non-null   datetime64[ns]\n",
      " 1   Rating  2224 non-null   int64         \n",
      " 2   Titolo  2224 non-null   object        \n",
      " 3   Testo   2224 non-null   object        \n",
      " 4   Locale  2224 non-null   object        \n",
      "dtypes: datetime64[ns](1), int64(1), object(3)\n",
      "memory usage: 87.0+ KB\n"
     ]
    }
   ],
   "source": [
    "frame.info()"
   ]
  },
  {
   "cell_type": "code",
   "execution_count": 11,
   "id": "7ea86adf",
   "metadata": {},
   "outputs": [],
   "source": [
    "frame.to_csv('data/all.csv', index=False)"
   ]
  },
  {
   "cell_type": "code",
   "execution_count": 31,
   "id": "3c67ef97",
   "metadata": {},
   "outputs": [],
   "source": [
    "frame[\"Testo\"] = frame[\"Testo\"].str.lower()\n",
    "frame[\"Titolo\"] = frame[\"Titolo\"].str.lower()"
   ]
  },
  {
   "cell_type": "code",
   "execution_count": 32,
   "id": "9b89bff3",
   "metadata": {},
   "outputs": [
    {
     "data": {
      "text/html": [
       "<div>\n",
       "<style scoped>\n",
       "    .dataframe tbody tr th:only-of-type {\n",
       "        vertical-align: middle;\n",
       "    }\n",
       "\n",
       "    .dataframe tbody tr th {\n",
       "        vertical-align: top;\n",
       "    }\n",
       "\n",
       "    .dataframe thead th {\n",
       "        text-align: right;\n",
       "    }\n",
       "</style>\n",
       "<table border=\"1\" class=\"dataframe\">\n",
       "  <thead>\n",
       "    <tr style=\"text-align: right;\">\n",
       "      <th></th>\n",
       "      <th>Rating</th>\n",
       "    </tr>\n",
       "    <tr>\n",
       "      <th>Locale</th>\n",
       "      <th></th>\n",
       "    </tr>\n",
       "  </thead>\n",
       "  <tbody>\n",
       "    <tr>\n",
       "      <th>gaeaulenti</th>\n",
       "      <td>20.0</td>\n",
       "    </tr>\n",
       "    <tr>\n",
       "      <th>mercato</th>\n",
       "      <td>20.0</td>\n",
       "    </tr>\n",
       "    <tr>\n",
       "      <th>concordia</th>\n",
       "      <td>30.0</td>\n",
       "    </tr>\n",
       "    <tr>\n",
       "      <th>lafoppa</th>\n",
       "      <td>30.0</td>\n",
       "    </tr>\n",
       "    <tr>\n",
       "      <th>melzideril</th>\n",
       "      <td>30.0</td>\n",
       "    </tr>\n",
       "    <tr>\n",
       "      <th>tadino</th>\n",
       "      <td>30.0</td>\n",
       "    </tr>\n",
       "  </tbody>\n",
       "</table>\n",
       "</div>"
      ],
      "text/plain": [
       "            Rating\n",
       "Locale            \n",
       "gaeaulenti    20.0\n",
       "mercato       20.0\n",
       "concordia     30.0\n",
       "lafoppa       30.0\n",
       "melzideril    30.0\n",
       "tadino        30.0"
      ]
     },
     "execution_count": 32,
     "metadata": {},
     "output_type": "execute_result"
    }
   ],
   "source": [
    "best = frame.groupby(by=\"Locale\").median().sort_values(by=\"Rating\")\n",
    "best"
   ]
  },
  {
   "cell_type": "code",
   "execution_count": 37,
   "id": "1496814d",
   "metadata": {},
   "outputs": [],
   "source": [
    "frame[\"Etichetta\"] = frame[\"Rating\"].apply(lambda x: 'pos' if x>30 else 'neg')"
   ]
  },
  {
   "cell_type": "code",
   "execution_count": 38,
   "id": "9f0a7632",
   "metadata": {},
   "outputs": [],
   "source": [
    "frame['Testo'] = frame['Testo'].str.replace(r'[^\\w\\s]+', '')\n"
   ]
  },
  {
   "cell_type": "code",
   "execution_count": 39,
   "id": "54063e22",
   "metadata": {},
   "outputs": [
    {
     "data": {
      "text/html": [
       "<div>\n",
       "<style scoped>\n",
       "    .dataframe tbody tr th:only-of-type {\n",
       "        vertical-align: middle;\n",
       "    }\n",
       "\n",
       "    .dataframe tbody tr th {\n",
       "        vertical-align: top;\n",
       "    }\n",
       "\n",
       "    .dataframe thead th {\n",
       "        text-align: right;\n",
       "    }\n",
       "</style>\n",
       "<table border=\"1\" class=\"dataframe\">\n",
       "  <thead>\n",
       "    <tr style=\"text-align: right;\">\n",
       "      <th></th>\n",
       "      <th>Data</th>\n",
       "      <th>Rating</th>\n",
       "      <th>Titolo</th>\n",
       "      <th>Testo</th>\n",
       "      <th>Locale</th>\n",
       "      <th>Etichetta</th>\n",
       "    </tr>\n",
       "  </thead>\n",
       "  <tbody>\n",
       "    <tr>\n",
       "      <th>0</th>\n",
       "      <td>2022-01-31</td>\n",
       "      <td>10</td>\n",
       "      <td>non ci siamo per niente</td>\n",
       "      <td>sono stata con amici per un brunch e sono rima...</td>\n",
       "      <td>melzideril</td>\n",
       "      <td>neg</td>\n",
       "    </tr>\n",
       "    <tr>\n",
       "      <th>1</th>\n",
       "      <td>2022-01-05</td>\n",
       "      <td>20</td>\n",
       "      <td>si mangia insieme ai moscerini</td>\n",
       "      <td>il cibo è buono ma da un po di tempo ci sono t...</td>\n",
       "      <td>melzideril</td>\n",
       "      <td>neg</td>\n",
       "    </tr>\n",
       "    <tr>\n",
       "      <th>2</th>\n",
       "      <td>2021-10-12</td>\n",
       "      <td>20</td>\n",
       "      <td>poco pulizia , e molta sgarbatezza .</td>\n",
       "      <td>mosche sulle brioche  insetti in bagno  poco p...</td>\n",
       "      <td>melzideril</td>\n",
       "      <td>neg</td>\n",
       "    </tr>\n",
       "    <tr>\n",
       "      <th>3</th>\n",
       "      <td>2021-09-06</td>\n",
       "      <td>20</td>\n",
       "      <td>mai più</td>\n",
       "      <td>il locale non sembra pulito e il dehor è propr...</td>\n",
       "      <td>melzideril</td>\n",
       "      <td>neg</td>\n",
       "    </tr>\n",
       "    <tr>\n",
       "      <th>4</th>\n",
       "      <td>2021-08-02</td>\n",
       "      <td>10</td>\n",
       "      <td>pandenus, che succede?</td>\n",
       "      <td>servizio inesistente sono entrata totale clien...</td>\n",
       "      <td>melzideril</td>\n",
       "      <td>neg</td>\n",
       "    </tr>\n",
       "  </tbody>\n",
       "</table>\n",
       "</div>"
      ],
      "text/plain": [
       "        Data  Rating                                Titolo  \\\n",
       "0 2022-01-31      10               non ci siamo per niente   \n",
       "1 2022-01-05      20        si mangia insieme ai moscerini   \n",
       "2 2021-10-12      20  poco pulizia , e molta sgarbatezza .   \n",
       "3 2021-09-06      20                               mai più   \n",
       "4 2021-08-02      10                pandenus, che succede?   \n",
       "\n",
       "                                               Testo      Locale Etichetta  \n",
       "0  sono stata con amici per un brunch e sono rima...  melzideril       neg  \n",
       "1  il cibo è buono ma da un po di tempo ci sono t...  melzideril       neg  \n",
       "2  mosche sulle brioche  insetti in bagno  poco p...  melzideril       neg  \n",
       "3  il locale non sembra pulito e il dehor è propr...  melzideril       neg  \n",
       "4  servizio inesistente sono entrata totale clien...  melzideril       neg  "
      ]
     },
     "execution_count": 39,
     "metadata": {},
     "output_type": "execute_result"
    }
   ],
   "source": [
    "frame.head()"
   ]
  },
  {
   "cell_type": "code",
   "execution_count": 40,
   "id": "491dd170",
   "metadata": {},
   "outputs": [],
   "source": [
    "frame.to_csv('data/all.csv', index=False)\n"
   ]
  },
  {
   "cell_type": "code",
   "execution_count": 41,
   "id": "72ef1cbc",
   "metadata": {},
   "outputs": [
    {
     "data": {
      "text/html": [
       "<div>\n",
       "<style scoped>\n",
       "    .dataframe tbody tr th:only-of-type {\n",
       "        vertical-align: middle;\n",
       "    }\n",
       "\n",
       "    .dataframe tbody tr th {\n",
       "        vertical-align: top;\n",
       "    }\n",
       "\n",
       "    .dataframe thead th {\n",
       "        text-align: right;\n",
       "    }\n",
       "</style>\n",
       "<table border=\"1\" class=\"dataframe\">\n",
       "  <thead>\n",
       "    <tr style=\"text-align: right;\">\n",
       "      <th></th>\n",
       "      <th>Data</th>\n",
       "      <th>Rating</th>\n",
       "      <th>Titolo</th>\n",
       "      <th>Testo</th>\n",
       "      <th>Locale</th>\n",
       "      <th>Etichetta</th>\n",
       "    </tr>\n",
       "  </thead>\n",
       "  <tbody>\n",
       "    <tr>\n",
       "      <th>0</th>\n",
       "      <td>2022-01-31</td>\n",
       "      <td>10</td>\n",
       "      <td>non ci siamo per niente</td>\n",
       "      <td>sono stata con amici per un brunch e sono rima...</td>\n",
       "      <td>melzideril</td>\n",
       "      <td>neg</td>\n",
       "    </tr>\n",
       "    <tr>\n",
       "      <th>1</th>\n",
       "      <td>2022-01-05</td>\n",
       "      <td>20</td>\n",
       "      <td>si mangia insieme ai moscerini</td>\n",
       "      <td>il cibo è buono ma da un po di tempo ci sono t...</td>\n",
       "      <td>melzideril</td>\n",
       "      <td>neg</td>\n",
       "    </tr>\n",
       "    <tr>\n",
       "      <th>2</th>\n",
       "      <td>2021-10-12</td>\n",
       "      <td>20</td>\n",
       "      <td>poco pulizia , e molta sgarbatezza .</td>\n",
       "      <td>mosche sulle brioche  insetti in bagno  poco p...</td>\n",
       "      <td>melzideril</td>\n",
       "      <td>neg</td>\n",
       "    </tr>\n",
       "    <tr>\n",
       "      <th>3</th>\n",
       "      <td>2021-09-06</td>\n",
       "      <td>20</td>\n",
       "      <td>mai più</td>\n",
       "      <td>il locale non sembra pulito e il dehor è propr...</td>\n",
       "      <td>melzideril</td>\n",
       "      <td>neg</td>\n",
       "    </tr>\n",
       "    <tr>\n",
       "      <th>4</th>\n",
       "      <td>2021-08-02</td>\n",
       "      <td>10</td>\n",
       "      <td>pandenus, che succede?</td>\n",
       "      <td>servizio inesistente sono entrata totale clien...</td>\n",
       "      <td>melzideril</td>\n",
       "      <td>neg</td>\n",
       "    </tr>\n",
       "  </tbody>\n",
       "</table>\n",
       "</div>"
      ],
      "text/plain": [
       "        Data  Rating                                Titolo  \\\n",
       "0 2022-01-31      10               non ci siamo per niente   \n",
       "1 2022-01-05      20        si mangia insieme ai moscerini   \n",
       "2 2021-10-12      20  poco pulizia , e molta sgarbatezza .   \n",
       "3 2021-09-06      20                               mai più   \n",
       "4 2021-08-02      10                pandenus, che succede?   \n",
       "\n",
       "                                               Testo      Locale Etichetta  \n",
       "0  sono stata con amici per un brunch e sono rima...  melzideril       neg  \n",
       "1  il cibo è buono ma da un po di tempo ci sono t...  melzideril       neg  \n",
       "2  mosche sulle brioche  insetti in bagno  poco p...  melzideril       neg  \n",
       "3  il locale non sembra pulito e il dehor è propr...  melzideril       neg  \n",
       "4  servizio inesistente sono entrata totale clien...  melzideril       neg  "
      ]
     },
     "execution_count": 41,
     "metadata": {},
     "output_type": "execute_result"
    }
   ],
   "source": [
    "frame.head()"
   ]
  },
  {
   "cell_type": "code",
   "execution_count": null,
   "id": "18149a9f",
   "metadata": {},
   "outputs": [],
   "source": []
  }
 ],
 "metadata": {
  "kernelspec": {
   "display_name": "Python 3 (ipykernel)",
   "language": "python",
   "name": "python3"
  },
  "language_info": {
   "codemirror_mode": {
    "name": "ipython",
    "version": 3
   },
   "file_extension": ".py",
   "mimetype": "text/x-python",
   "name": "python",
   "nbconvert_exporter": "python",
   "pygments_lexer": "ipython3",
   "version": "3.8.8"
  },
  "toc": {
   "base_numbering": 1,
   "nav_menu": {},
   "number_sections": true,
   "sideBar": true,
   "skip_h1_title": true,
   "title_cell": "Table of Contents",
   "title_sidebar": "Contents",
   "toc_cell": true,
   "toc_position": {},
   "toc_section_display": true,
   "toc_window_display": true
  },
  "varInspector": {
   "cols": {
    "lenName": 16,
    "lenType": 16,
    "lenVar": 40
   },
   "kernels_config": {
    "python": {
     "delete_cmd_postfix": "",
     "delete_cmd_prefix": "del ",
     "library": "var_list.py",
     "varRefreshCmd": "print(var_dic_list())"
    },
    "r": {
     "delete_cmd_postfix": ") ",
     "delete_cmd_prefix": "rm(",
     "library": "var_list.r",
     "varRefreshCmd": "cat(var_dic_list()) "
    }
   },
   "types_to_exclude": [
    "module",
    "function",
    "builtin_function_or_method",
    "instance",
    "_Feature"
   ],
   "window_display": false
  }
 },
 "nbformat": 4,
 "nbformat_minor": 5
}
